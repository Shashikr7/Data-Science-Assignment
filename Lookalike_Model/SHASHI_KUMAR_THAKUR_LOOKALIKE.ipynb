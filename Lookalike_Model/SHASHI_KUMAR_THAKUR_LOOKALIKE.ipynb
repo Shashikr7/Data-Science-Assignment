{
 "cells": [
  {
   "cell_type": "code",
   "execution_count": 28,
   "id": "0a608021",
   "metadata": {},
   "outputs": [],
   "source": [
    "import pandas as pd"
   ]
  },
  {
   "cell_type": "code",
   "execution_count": 29,
   "id": "86d4862f",
   "metadata": {},
   "outputs": [],
   "source": [
    "customers = pd.read_csv('../Data/Shashi_Kumar_Thakur_Customers.csv')\n",
    "products = pd.read_csv('../Data/Shashi_Kumar_Thakur_Products.csv')\n",
    "transactions = pd.read_csv('../Data/Shashi_Kumar_thakur_Transactions.csv')\n"
   ]
  },
  {
   "cell_type": "code",
   "execution_count": 30,
   "id": "56f5934b",
   "metadata": {
    "scrolled": false
   },
   "outputs": [
    {
     "name": "stdout",
     "output_type": "stream",
     "text": [
      "Index(['TransactionID', 'CustomerID', 'ProductID', 'TransactionDate',\n",
      "       'Quantity', 'TotalValue', 'Price_x', 'CustomerName', 'Region',\n",
      "       'SignupDate', 'ProductName', 'Category', 'Price_y'],\n",
      "      dtype='object')\n"
     ]
    }
   ],
   "source": [
    "print(data.columns)\n"
   ]
  },
  {
   "cell_type": "code",
   "execution_count": 31,
   "id": "50604aa1",
   "metadata": {},
   "outputs": [
    {
     "name": "stdout",
     "output_type": "stream",
     "text": [
      "  CustomerID  TotalValue  Quantity    AvgPrice\n",
      "0      C0001     3354.52        12  278.334000\n",
      "1      C0002     1862.74        10  208.920000\n",
      "2      C0003     2725.38        14  195.707500\n",
      "3      C0004     5354.88        23  240.636250\n",
      "4      C0005     2034.24         7  291.603333\n"
     ]
    }
   ],
   "source": [
    "customer_features = data.groupby('CustomerID').agg({\n",
    "    'TotalValue': 'sum',    \n",
    "    'Quantity': 'sum',     \n",
    "    'Price_x': 'mean'      \n",
    "}).reset_index()\n",
    "\n",
    "customer_features.rename(columns={'Price_x': 'AvgPrice'}, inplace=True)\n",
    "\n",
    "\n",
    "print(customer_features.head())\n"
   ]
  },
  {
   "cell_type": "code",
   "execution_count": 32,
   "id": "68eab0be",
   "metadata": {},
   "outputs": [],
   "source": [
    "from sklearn.preprocessing import StandardScaler\n",
    "from sklearn.metrics.pairwise import cosine_similarity\n",
    "\n",
    "\n",
    "scaler = StandardScaler()\n",
    "features_scaled = scaler.fit_transform(customer_features.iloc[:, 1:])\n",
    "\n",
    "\n",
    "similarity_matrix = cosine_similarity(features_scaled)\n",
    "similarity_df = pd.DataFrame(similarity_matrix, index=customer_features['CustomerID'], columns=customer_features['CustomerID'])\n"
   ]
  },
  {
   "cell_type": "code",
   "execution_count": 35,
   "id": "f90b1aa9",
   "metadata": {},
   "outputs": [],
   "source": [
    "\n",
    "lookalike = {}\n",
    "for cust in customer_features['CustomerID'][:20]:\n",
    "    similar_custs = similarity_df[cust].sort_values(ascending=False)[1:4]  \n",
    "    lookalike[cust] = similar_custs.to_dict()\n",
    "\n",
    "\n",
    "lookalike_df = pd.DataFrame([(k, list(v.keys()), list(v.values())) for k, v in lookalike.items()],\n",
    "                            columns=['CustomerID', 'SimilarCustomers', 'Scores'])\n",
    "lookalike_df.to_csv('FirstName_LastName_Lookalike.csv', index=False)\n"
   ]
  },
  {
   "cell_type": "code",
   "execution_count": null,
   "id": "e05d0664",
   "metadata": {},
   "outputs": [],
   "source": []
  }
 ],
 "metadata": {
  "kernelspec": {
   "display_name": "Python 3 (ipykernel)",
   "language": "python",
   "name": "python3"
  },
  "language_info": {
   "codemirror_mode": {
    "name": "ipython",
    "version": 3
   },
   "file_extension": ".py",
   "mimetype": "text/x-python",
   "name": "python",
   "nbconvert_exporter": "python",
   "pygments_lexer": "ipython3",
   "version": "3.10.9"
  }
 },
 "nbformat": 4,
 "nbformat_minor": 5
}
